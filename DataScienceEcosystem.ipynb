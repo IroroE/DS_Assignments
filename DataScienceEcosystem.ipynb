{
 "cells": [
  {
   "cell_type": "markdown",
   "id": "5b7ecff1",
   "metadata": {},
   "source": [
    "# Data Science Tools and Ecosystem"
   ]
  },
  {
   "cell_type": "markdown",
   "id": "d9284a8c",
   "metadata": {},
   "source": [
    "## In this notebook, Data Science Tools and Ecosystem are summarized."
   ]
  },
  {
   "cell_type": "markdown",
   "id": "ddb7de46",
   "metadata": {},
   "source": [
    "## **Objectives:**\n",
    "- *Popular languages of Data Science*\n",
    "- *Common libraries used by Data Scientists*\n",
    "- *Data science tools*\n",
    "- *Arithmetic expressions*"
   ]
  },
  {
   "cell_type": "markdown",
   "id": "306562b2",
   "metadata": {},
   "source": [
    "## Some of the popular languages that Data Scientists use are:\n",
    "### 1. Python\n",
    "### 2. Scala\n",
    "### 3. R"
   ]
  },
  {
   "cell_type": "markdown",
   "id": "519ecb9a",
   "metadata": {},
   "source": [
    "## Some of the commonly used libraries by Data Scientists include:\n",
    "### 1. Pandas\n",
    "### 2. Numpy\n",
    "### 3. Tensorflow\n",
    "### 4. Matplotlib\n",
    "### 5 Plotly"
   ]
  },
  {
   "cell_type": "markdown",
   "id": "def4ed7c",
   "metadata": {},
   "source": [
    "## Data Science Tools\n",
    "\n",
    "|Data Science Tools|\n",
    "|------------------|\n",
    "|RStudio|\n",
    "|Apache Spark|\n",
    "|Apache Hadoop|\n",
    "|Jupiter Lab|"
   ]
  },
  {
   "cell_type": "markdown",
   "id": "7af5c6b0",
   "metadata": {},
   "source": [
    "### Below are a few examples of evaluating arithmtic expressions in Python"
   ]
  },
  {
   "cell_type": "markdown",
   "id": "410a72a7",
   "metadata": {},
   "source": [
    "# This is a simple arithmetic expression to multiply and add integers"
   ]
  },
  {
   "cell_type": "code",
   "execution_count": 1,
   "id": "098790e1",
   "metadata": {},
   "outputs": [
    {
     "data": {
      "text/plain": [
       "17"
      ]
     },
     "execution_count": 1,
     "metadata": {},
     "output_type": "execute_result"
    }
   ],
   "source": [
    "(3*4)+5"
   ]
  },
  {
   "cell_type": "markdown",
   "id": "70316d69",
   "metadata": {},
   "source": [
    "# This will convert 200 minutes to hours by dividing by 60"
   ]
  },
  {
   "cell_type": "code",
   "execution_count": 2,
   "id": "f0b7bfa9",
   "metadata": {},
   "outputs": [
    {
     "data": {
      "text/plain": [
       "3.3333333333333335"
      ]
     },
     "execution_count": 2,
     "metadata": {},
     "output_type": "execute_result"
    }
   ],
   "source": [
    "200/60"
   ]
  },
  {
   "cell_type": "markdown",
   "id": "918b1c52",
   "metadata": {},
   "source": [
    "## Author\n",
    "Iroro Eradajaye"
   ]
  },
  {
   "cell_type": "code",
   "execution_count": null,
   "id": "ac12ceba",
   "metadata": {},
   "outputs": [],
   "source": []
  }
 ],
 "metadata": {
  "kernelspec": {
   "display_name": "Python 3 (ipykernel)",
   "language": "python",
   "name": "python3"
  },
  "language_info": {
   "codemirror_mode": {
    "name": "ipython",
    "version": 3
   },
   "file_extension": ".py",
   "mimetype": "text/x-python",
   "name": "python",
   "nbconvert_exporter": "python",
   "pygments_lexer": "ipython3",
   "version": "3.11.5"
  }
 },
 "nbformat": 4,
 "nbformat_minor": 5
}
